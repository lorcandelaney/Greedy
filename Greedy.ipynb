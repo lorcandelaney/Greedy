{
 "cells": [
  {
   "cell_type": "code",
   "execution_count": 37,
   "metadata": {},
   "outputs": [],
   "source": [
    "# Import Libraries\n",
    "\n",
    "import math\n",
    "import matplotlib.pyplot as plt\n",
    "import numpy as np\n",
    "import pandas as pd\n",
    "import os\n",
    "import torch\n",
    "import torch.nn as nn\n",
    "import torch.nn.functional as F\n",
    "import torch.optim as optim\n",
    "from sklearn import preprocessing\n",
    "from sklearn import metrics\n",
    "import random\n",
    "import sys\n",
    "sys.path.append('../')\n"
   ]
  },
  {
   "cell_type": "code",
   "execution_count": 38,
   "metadata": {},
   "outputs": [
    {
     "name": "stderr",
     "output_type": "stream",
     "text": [
      "/Users/lorcandelaney/.local/lib/python3.6/site-packages/sklearn/preprocessing/_encoders.py:368: FutureWarning:\n",
      "\n",
      "The handling of integer data will change in version 0.22. Currently, the categories are determined based on the range [0, max(values)], while in the future they will be determined based on the unique values.\n",
      "If you want the future behaviour and silence this warning, you can specify \"categories='auto'\".\n",
      "In case you used a LabelEncoder before this OneHotEncoder to convert the categories to integers, then you can now use the OneHotEncoder directly.\n",
      "\n",
      "/Users/lorcandelaney/.local/lib/python3.6/site-packages/sklearn/preprocessing/_encoders.py:380: DeprecationWarning:\n",
      "\n",
      "The 'categorical_features' keyword is deprecated in version 0.20 and will be removed in 0.22. The passed value of 'all' is the default and can simply be removed.\n",
      "\n"
     ]
    }
   ],
   "source": [
    "# Import data from file\n",
    "df = pd.read_csv(os.getcwd() + '/agaricus-lepiota.data', sep=',', header=None,\n",
    "             error_bad_lines=False, warn_bad_lines=True, low_memory=False)\n",
    "\n",
    "# Set pandas to output all of the columns in output\n",
    "df.columns = ['class','cap-shape','cap-surface','cap-color','bruises','odor','gill-attachment',\n",
    "         'gill-spacing','gill-size','gill-color','stalk-shape','stalk-root',\n",
    "         'stalk-surf-above-ring','stalk-surf-below-ring','stalk-color-above-ring','stalk-color-below-ring',\n",
    "         'veil-type','veil-color','ring-number','ring-type','spore-color','population','habitat']\n",
    "\n",
    "# Split context from label\n",
    "X = pd.DataFrame(df, columns=df.columns[1:len(df.columns)], index=df.index)\n",
    "# Put the class values (0th column) into Y\n",
    "Y = df['class']\n",
    "\n",
    "# Transform labels into one-hot encoded array\n",
    "le = preprocessing.LabelEncoder()\n",
    "le.fit(Y)\n",
    "y = le.transform(Y)\n",
    "\n",
    "# Temporary variable to avoid error \n",
    "x_tmp = pd.DataFrame(X,columns=[X.columns[0]])\n",
    "\n",
    "# Encode each feature column and add it to x_train \n",
    "for colname in X.columns:\n",
    "    le.fit(X[colname])\n",
    "    #print(colname, le.classes_)\n",
    "    x_tmp[colname] = le.transform(X[colname])\n",
    "\n",
    "# Produce mushroom array: 8124 mushrooms, each with 117 one-hot encoded features\n",
    "oh = preprocessing.OneHotEncoder(categorical_features='all')\n",
    "oh.fit(x_tmp)\n",
    "x = oh.transform(x_tmp).toarray()"
   ]
  },
  {
   "cell_type": "code",
   "execution_count": 39,
   "metadata": {},
   "outputs": [
    {
     "name": "stdout",
     "output_type": "stream",
     "text": [
      "8124\n"
     ]
    }
   ],
   "source": [
    "print(len(x))"
   ]
  },
  {
   "cell_type": "code",
   "execution_count": 40,
   "metadata": {},
   "outputs": [],
   "source": [
    "# REWARD FUNCTION\n",
    "\n",
    "def get_reward(eaten, edible):\n",
    "    # REWARDS FOR AGENT\n",
    "    #  Eat poisonous mushroom\n",
    "    if not eaten:\n",
    "        return 0\n",
    "    if eaten and edible:\n",
    "        return 5\n",
    "    elif eaten and not edible:\n",
    "        return (5 if np.random.rand() > 0.5 else -35)\n",
    "\n",
    "def oracle_reward(edible):\n",
    "    return 5*edible   "
   ]
  },
  {
   "cell_type": "code",
   "execution_count": 41,
   "metadata": {},
   "outputs": [],
   "source": [
    "def init_buffer():\n",
    "    bufferX, bufferY = [], []\n",
    "    for i in np.random.choice(range(len(x)), 4096):\n",
    "        eat = np.random.rand()>0.5\n",
    "        bufferX.append(np.concatenate((x[i], [1, 0] if eat else [0, 1])))\n",
    "        bufferY.append(get_reward(eat, y[i]))\n",
    "    return bufferX, bufferY"
   ]
  },
  {
   "cell_type": "code",
   "execution_count": 42,
   "metadata": {},
   "outputs": [],
   "source": [
    "import torch.nn as nn\n",
    "import torch.nn.functional as F\n",
    "import sys\n",
    "from torch.autograd import Variable\n",
    "\n",
    "Var = lambda x, dtype=torch.FloatTensor: Variable(torch.from_numpy(x).type(dtype))"
   ]
  },
  {
   "cell_type": "code",
   "execution_count": 43,
   "metadata": {},
   "outputs": [],
   "source": [
    "class MushroomNet():\n",
    "    def __init__(self, label='MushNet', n_weight_sampling = 2):\n",
    "        self.n_weight_sampling = n_weight_sampling\n",
    "        self.label = label\n",
    "        self.epsilon = 0\n",
    "        self.net = None\n",
    "        self.bufferX, self.bufferY = init_buffer()\n",
    "        self.loss, self.optimizer = None, None\n",
    "        self.cum_regrets = [0]\n",
    "    \n",
    "    def expected_rewards(self, context):\n",
    "        k = self.n_weight_sampling\n",
    "        c_eat = Var(np.concatenate((context, [1, 0])))\n",
    "        c_reject = Var(np.concatenate((context, [0, 1])))\n",
    "        with torch.no_grad():\n",
    "            r_eat = np.mean([self.net.forward(c_eat).numpy().reshape(1)[0] for _ in range(k)])\n",
    "            r_reject = np.mean([self.net.forward(c_reject).numpy().reshape(1)[0] for _ in range(k)])\n",
    "        return r_reject, r_eat\n",
    "\n",
    "    def try_(self, mushroom):\n",
    "        context, edible = x[mushroom], y[mushroom]\n",
    "        r_reject, r_eat = self.expected_rewards(context)\n",
    "        eaten = r_eat > r_reject\n",
    "        if np.random.rand()<self.epsilon:\n",
    "            eaten = (np.random.rand()<.5)\n",
    "        reward = get_reward(eaten, edible)\n",
    "        action = [1, 0] if eaten else [0, 1]\n",
    "        self.bufferX.append(np.concatenate((context, action)))\n",
    "        self.bufferY.append(reward)\n",
    "        rg = oracle_reward(edible) - reward\n",
    "        self.cum_regrets.append(self.cum_regrets[-1]+rg)\n",
    "    \n",
    "    def update(self, mushroom):\n",
    "        self.try_(mushroom)\n",
    "        bX = Var(np.array(self.bufferX[-4096:]))\n",
    "        bY = Var(np.array(self.bufferY[-4096:]))\n",
    "        for idx in np.split(np.random.permutation(range(4096)), 64):\n",
    "            #self.net.train()\n",
    "            self.net.zero_grad()\n",
    "            self.loss(bX[idx], bY[idx]).backward()\n",
    "            self.optimizer.step()"
   ]
  },
  {
   "cell_type": "code",
   "execution_count": 44,
   "metadata": {},
   "outputs": [],
   "source": [
    "class EpsGreedyMlp(MushroomNet):\n",
    "    def __init__(self, epsilon=0, **kwargs):\n",
    "        super().__init__(**kwargs)\n",
    "        self.epsilon = epsilon\n",
    "        self.net = nn.Sequential(\n",
    "        nn.Linear(x.shape[1]+2, 100), nn.ReLU(),\n",
    "        nn.Linear(100, 100), nn.ReLU(),\n",
    "        nn.Linear(100, 1))\n",
    "        self.bufferX, self.bufferY = init_buffer()\n",
    "        self.optimizer = optim.Adam(self.net.parameters())\n",
    "        self.mse = nn.MSELoss()\n",
    "        self.loss = lambda data, target: self.mse(self.net.forward(data), target)"
   ]
  },
  {
   "cell_type": "code",
   "execution_count": 45,
   "metadata": {},
   "outputs": [],
   "source": [
    "mushroom_nets = {\n",
    "                 'e0':EpsGreedyMlp(epsilon=0, label = 'Greedy'),\n",
    "                 'e1':EpsGreedyMlp(epsilon=0.01, label = '1% Greedy'),\n",
    "                 'e5':EpsGreedyMlp(epsilon=0.05, label = '5% Greedy')}"
   ]
  },
  {
   "cell_type": "code",
   "execution_count": 46,
   "metadata": {},
   "outputs": [
    {
     "data": {
      "application/vnd.jupyter.widget-view+json": {
       "model_id": "e7c40ad96f2f405a80c36b383b0443c7",
       "version_major": 2,
       "version_minor": 0
      },
      "text/html": [
       "<p>Failed to display Jupyter Widget of type <code>Fig</code>.</p>\n",
       "<p>\n",
       "  If you're reading this message in the Jupyter Notebook or JupyterLab Notebook, it may mean\n",
       "  that the widgets JavaScript is still loading. If this message persists, it\n",
       "  likely means that the widgets JavaScript library is either not installed or\n",
       "  not enabled. See the <a href=\"https://ipywidgets.readthedocs.io/en/stable/user_install.html\">Jupyter\n",
       "  Widgets Documentation</a> for setup instructions.\n",
       "</p>\n",
       "<p>\n",
       "  If you're reading this message in another frontend (for example, a static\n",
       "  rendering on GitHub or <a href=\"https://nbviewer.jupyter.org/\">NBViewer</a>),\n",
       "  it may mean that your frontend doesn't currently support widgets.\n",
       "</p>\n"
      ],
      "text/plain": [
       "Fig({\n",
       "    'data': [{'name': 'Greedy', 'type': 'scatter', 'uid': '818eadbc-93a8-46b0-9a84-4f62ace14888', 'x': [], 'y': []},\n",
       "             {'name': '1% Greedy', 'type': 'scatter', 'uid': 'd5e6e298-f551-4efa-a081-ef135ac7ab81', 'x': [], 'y': []},\n",
       "             {'name': '5% Greedy', 'type': 'scatter', 'uid': '68d3b72b-6a9d-4c5b-b8d2-7b734ebc8a85', 'x': [], 'y': []}],\n",
       "    'layout': {'title': {'text': 'Cumulative Regrets'}}\n",
       "})"
      ]
     },
     "metadata": {},
     "output_type": "display_data"
    }
   ],
   "source": [
    "import plotly.graph_objs as go\n",
    "class Fig(go.FigureWidget):\n",
    "    def __init__(self):\n",
    "        super().__init__([go.Scatter(name = net.label, x=[], y=[]) \n",
    "                          for i, net in mushroom_nets.items()])\n",
    "        self.layout.title = 'Cumulative Regrets'\n",
    "    \n",
    "    def update(self, dic):\n",
    "        for j, (lb, y) in enumerate(dic.items()):\n",
    "            self.data[j].x = list(range(len(y)))\n",
    "            self.data[j].y = y\n",
    "    \n",
    "    def save(self, file_name = 'mushroom_regrets.csv'):\n",
    "        dic = {fd.name: fd.y for fd in self.data}\n",
    "        pd.DataFrame.from_dict(dic).to_csv(file_name)\n",
    "        \n",
    "        \n",
    "fig = Fig()\n",
    "fig  "
   ]
  },
  {
   "cell_type": "code",
   "execution_count": 47,
   "metadata": {},
   "outputs": [
    {
     "data": {
      "application/vnd.plotly.v1+json": {
       "config": {
        "linkText": "Export to plot.ly",
        "plotlyServerURL": "https://plot.ly",
        "showLink": false
       },
       "data": [
        {
         "name": "Greedy",
         "type": "scatter",
         "uid": "818eadbc-93a8-46b0-9a84-4f62ace14888",
         "x": [],
         "y": []
        },
        {
         "name": "1% Greedy",
         "type": "scatter",
         "uid": "d5e6e298-f551-4efa-a081-ef135ac7ab81",
         "x": [],
         "y": []
        },
        {
         "name": "5% Greedy",
         "type": "scatter",
         "uid": "68d3b72b-6a9d-4c5b-b8d2-7b734ebc8a85",
         "x": [],
         "y": []
        }
       ],
       "layout": {
        "title": {
         "text": "Cumulative Regrets"
        }
       }
      }
     },
     "metadata": {},
     "output_type": "display_data"
    }
   ],
   "source": [
    "import plotly.offline as py\n",
    "py.iplot(fig)"
   ]
  },
  {
   "cell_type": "code",
   "execution_count": 48,
   "metadata": {},
   "outputs": [],
   "source": [
    "NB_STEPS = 5000\n",
    "\n",
    "offset = len(fig.data[0].x)\n",
    "for _ in range(offset, offset+NB_STEPS):\n",
    "    mushroom = np.random.randint(len(x))\n",
    "    for j, (key, net) in enumerate(mushroom_nets.items()):\n",
    "        net.update(mushroom)\n",
    "    fig.update({net.label: net.cum_regrets for lb, net in mushroom_nets.items()})"
   ]
  },
  {
   "cell_type": "code",
   "execution_count": null,
   "metadata": {},
   "outputs": [],
   "source": []
  }
 ],
 "metadata": {
  "kernelspec": {
   "display_name": "Python 3",
   "language": "python",
   "name": "python3"
  },
  "language_info": {
   "codemirror_mode": {
    "name": "ipython",
    "version": 3
   },
   "file_extension": ".py",
   "mimetype": "text/x-python",
   "name": "python",
   "nbconvert_exporter": "python",
   "pygments_lexer": "ipython3",
   "version": "3.6.4"
  }
 },
 "nbformat": 4,
 "nbformat_minor": 2
}
